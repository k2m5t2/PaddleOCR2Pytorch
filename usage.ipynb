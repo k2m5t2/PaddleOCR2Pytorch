{
 "cells": [
  {
   "cell_type": "markdown",
   "metadata": {},
   "source": [
    "## Setup"
   ]
  },
  {
   "cell_type": "markdown",
   "metadata": {},
   "source": [
    "### Convert Models [Paddle -> PyTorch]"
   ]
  },
  {
   "cell_type": "code",
   "execution_count": 1,
   "metadata": {},
   "outputs": [],
   "source": [
    "# TODO mkdir"
   ]
  },
  {
   "cell_type": "code",
   "execution_count": 2,
   "metadata": {},
   "outputs": [],
   "source": [
    "# TODO attach download links as wget/curl\n",
    "# ! py -3.9 ./converter/ch_ppocr_v3_det_converter.py --src_model_path models/Multilingual_PP-OCRv3_det_distill_train\n",
    "# successful"
   ]
  },
  {
   "cell_type": "code",
   "execution_count": 3,
   "metadata": {},
   "outputs": [],
   "source": [
    "# TODO attach download links as wget/curl\n",
    "# ! py -3.9 ./converter/multilingual_ppocr_v3_rec_converter.py --src_model_path models/en_PP-OCRv3_rec_train\n",
    "# successful"
   ]
  },
  {
   "cell_type": "markdown",
   "metadata": {},
   "source": [
    "### Imports"
   ]
  },
  {
   "cell_type": "code",
   "execution_count": null,
   "metadata": {},
   "outputs": [],
   "source": [
    "import argparse"
   ]
  },
  {
   "cell_type": "markdown",
   "metadata": {},
   "source": [
    "## Usage"
   ]
  },
  {
   "cell_type": "markdown",
   "metadata": {},
   "source": [
    "### Detection"
   ]
  },
  {
   "cell_type": "code",
   "execution_count": 4,
   "metadata": {},
   "outputs": [
    {
     "name": "stdout",
     "output_type": "stream",
     "text": [
      "{'fc_decay': 4e-05, 'in_channels': 96}\n",
      "Traceback (most recent call last):\n",
      "  File \"/Users/yunhocho/Documents/GitHub/PaddleOCR2Pytorch/./tools/infer/predict_det.py\", line 250, in <module>\n",
      "    text_detector = TextDetector(args)\n",
      "  File \"/Users/yunhocho/Documents/GitHub/PaddleOCR2Pytorch/./tools/infer/predict_det.py\", line 128, in __init__\n",
      "    self.load_pytorch_weights(self.weights_path)\n",
      "  File \"/Users/yunhocho/Documents/GitHub/PaddleOCR2Pytorch/pytorchocr/base_ocr_v20.py\", line 77, in load_pytorch_weights\n",
      "    self.net.load_state_dict(torch.load(weights_path))\n",
      "  File \"/opt/homebrew/lib/python3.9/site-packages/torch/nn/modules/module.py\", line 2041, in load_state_dict\n",
      "    raise RuntimeError('Error(s) in loading state_dict for {}:\\n\\t{}'.format(\n",
      "RuntimeError: Error(s) in loading state_dict for BaseModel:\n",
      "\tMissing key(s) in state_dict: \"backbone.conv1.conv.weight\", \"backbone.conv1.bn.weight\", \"backbone.conv1.bn.bias\", \"backbone.conv1.bn.running_mean\", \"backbone.conv1.bn.running_var\", \"backbone.blocks.0.expand_conv.conv.weight\", \"backbone.blocks.0.expand_conv.bn.weight\", \"backbone.blocks.0.expand_conv.bn.bias\", \"backbone.blocks.0.expand_conv.bn.running_mean\", \"backbone.blocks.0.expand_conv.bn.running_var\", \"backbone.blocks.0.bottleneck_conv.conv.weight\", \"backbone.blocks.0.bottleneck_conv.bn.weight\", \"backbone.blocks.0.bottleneck_conv.bn.bias\", \"backbone.blocks.0.bottleneck_conv.bn.running_mean\", \"backbone.blocks.0.bottleneck_conv.bn.running_var\", \"backbone.blocks.0.mid_se.conv1.weight\", \"backbone.blocks.0.mid_se.conv1.bias\", \"backbone.blocks.0.mid_se.conv2.weight\", \"backbone.blocks.0.mid_se.conv2.bias\", \"backbone.blocks.0.linear_conv.conv.weight\", \"backbone.blocks.0.linear_conv.bn.weight\", \"backbone.blocks.0.linear_conv.bn.bias\", \"backbone.blocks.0.linear_conv.bn.running_mean\", \"backbone.blocks.0.linear_conv.bn.running_var\", \"backbone.blocks.1.expand_conv.conv.weight\", \"backbone.blocks.1.expand_conv.bn.weight\", \"backbone.blocks.1.expand_conv.bn.bias\", \"backbone.blocks.1.expand_conv.bn.running_mean\", \"backbone.blocks.1.expand_conv.bn.running_var\", \"backbone.blocks.1.bottleneck_conv.conv.weight\", \"backbone.blocks.1.bottleneck_conv.bn.weight\", \"backbone.blocks.1.bottleneck_conv.bn.bias\", \"backbone.blocks.1.bottleneck_conv.bn.running_mean\", \"backbone.blocks.1.bottleneck_conv.bn.running_var\", \"backbone.blocks.1.linear_conv.conv.weight\", \"backbone.blocks.1.linear_conv.bn.weight\", \"backbone.blocks.1.linear_conv.bn.bias\", \"backbone.blocks.1.linear_conv.bn.running_mean\", \"backbone.blocks.1.linear_conv.bn.running_var\", \"backbone.blocks.2.expand_conv.conv.weight\", \"backbone.blocks.2.expand_conv.bn.weight\", \"backbone.blocks.2.expand_conv.bn.bias\", \"backbone.blocks.2.expand_conv.bn.running_mean\", \"backbone.blocks.2.expand_conv.bn.running_var\", \"backbone.blocks.2.bottleneck_conv.conv.weight\", \"backbone.blocks.2.bottleneck_conv.bn.weight\", \"backbone.blocks.2.bottleneck_conv.bn.bias\", \"backbone.blocks.2.bottleneck_conv.bn.running_mean\", \"backbone.blocks.2.bottleneck_conv.bn.running_var\", \"backbone.blocks.2.linear_conv.conv.weight\", \"backbone.blocks.2.linear_conv.bn.weight\", \"backbone.blocks.2.linear_conv.bn.bias\", \"backbone.blocks.2.linear_conv.bn.running_mean\", \"backbone.blocks.2.linear_conv.bn.running_var\", \"backbone.blocks.3.expand_conv.conv.weight\", \"backbone.blocks.3.expand_conv.bn.weight\", \"backbone.blocks.3.expand_conv.bn.bias\", \"backbone.blocks.3.expand_conv.bn.running_mean\", \"backbone.blocks.3.expand_conv.bn.running_var\", \"backbone.blocks.3.bottleneck_conv.conv.weight\", \"backbone.blocks.3.bottleneck_conv.bn.weight\", \"backbone.blocks.3.bottleneck_conv.bn.bias\", \"backbone.blocks.3.bottleneck_conv.bn.running_mean\", \"backbone.blocks.3.bottleneck_conv.bn.running_var\", \"backbone.blocks.3.mid_se.conv1.weight\", \"backbone.blocks.3.mid_se.conv1.bias\", \"backbone.blocks.3.mid_se.conv2.weight\", \"backbone.blocks.3.mid_se.conv2.bias\", \"backbone.blocks.3.linear_conv.conv.weight\", \"backbone.blocks.3.linear_conv.bn.weight\", \"backbone.blocks.3.linear_conv.bn.bias\", \"backbone.blocks.3.linear_conv.bn.running_mean\", \"backbone.blocks.3.linear_conv.bn.running_var\", \"backbone.blocks.4.expand_conv.conv.weight\", \"backbone.blocks.4.expand_conv.bn.weight\", \"backbone.blocks.4.expand_conv.bn.bias\", \"backbone.blocks.4.expand_conv.bn.running_mean\", \"backbone.blocks.4.expand_conv.bn.running_var\", \"backbone.blocks.4.bottleneck_conv.conv.weight\", \"backbone.blocks.4.bottleneck_conv.bn.weight\", \"backbone.blocks.4.bottleneck_conv.bn.bias\", \"backbone.blocks.4.bottleneck_conv.bn.running_mean\", \"backbone.blocks.4.bottleneck_conv.bn.running_var\", \"backbone.blocks.4.mid_se.conv1.weight\", \"backbone.blocks.4.mid_se.conv1.bias\", \"backbone.blocks.4.mid_se.conv2.weight\", \"backbone.blocks.4.mid_se.conv2.bias\", \"backbone.blocks.4.linear_conv.conv.weight\", \"backbone.blocks.4.linear_conv.bn.weight\", \"backbone.blocks.4.linear_conv.bn.bias\", \"backbone.blocks.4.linear_conv.bn.running_mean\", \"backbone.blocks.4.linear_conv.bn.running_var\", \"backbone.blocks.5.expand_conv.conv.weight\", \"backbone.blocks.5.expand_conv.bn.weight\", \"backbone.blocks.5.expand_conv.bn.bias\", \"backbone.blocks.5.expand_conv.bn.running_mean\", \"backbone.blocks.5.expand_conv.bn.running_var\", \"backbone.blocks.5.bottleneck_conv.conv.weight\", \"backbone.blocks.5.bottleneck_conv.bn.weight\", \"backbone.blocks.5.bottleneck_conv.bn.bias\", \"backbone.blocks.5.bottleneck_conv.bn.running_mean\", \"backbone.blocks.5.bottleneck_conv.bn.running_var\", \"backbone.blocks.5.mid_se.conv1.weight\", \"backbone.blocks.5.mid_se.conv1.bias\", \"backbone.blocks.5.mid_se.conv2.weight\", \"backbone.blocks.5.mid_se.conv2.bias\", \"backbone.blocks.5.linear_conv.conv.weight\", \"backbone.blocks.5.linear_conv.bn.weight\", \"backbone.blocks.5.linear_conv.bn.bias\", \"backbone.blocks.5.linear_conv.bn.running_mean\", \"backbone.blocks.5.linear_conv.bn.running_var\", \"backbone.blocks.6.expand_conv.conv.weight\", \"backbone.blocks.6.expand_conv.bn.weight\", \"backbone.blocks.6.expand_conv.bn.bias\", \"backbone.blocks.6.expand_conv.bn.running_mean\", \"backbone.blocks.6.expand_conv.bn.running_var\", \"backbone.blocks.6.bottleneck_conv.conv.weight\", \"backbone.blocks.6.bottleneck_conv.bn.weight\", \"backbone.blocks.6.bottleneck_conv.bn.bias\", \"backbone.blocks.6.bottleneck_conv.bn.running_mean\", \"backbone.blocks.6.bottleneck_conv.bn.running_var\", \"backbone.blocks.6.mid_se.conv1.weight\", \"backbone.blocks.6.mid_se.conv1.bias\", \"backbone.blocks.6.mid_se.conv2.weight\", \"backbone.blocks.6.mid_se.conv2.bias\", \"backbone.blocks.6.linear_conv.conv.weight\", \"backbone.blocks.6.linear_conv.bn.weight\", \"backbone.blocks.6.linear_conv.bn.bias\", \"backbone.blocks.6.linear_conv.bn.running_mean\", \"backbone.blocks.6.linear_conv.bn.running_var\", \"backbone.blocks.7.expand_conv.conv.weight\", \"backbone.blocks.7.expand_conv.bn.weight\", \"backbone.blocks.7.expand_conv.bn.bias\", \"backbone.blocks.7.expand_conv.bn.running_mean\", \"backbone.blocks.7.expand_conv.bn.running_var\", \"backbone.blocks.7.bottleneck_conv.conv.weight\", \"backbone.blocks.7.bottleneck_conv.bn.weight\", \"backbone.blocks.7.bottleneck_conv.bn.bias\", \"backbone.blocks.7.bottleneck_conv.bn.running_mean\", \"backbone.blocks.7.bottleneck_conv.bn.running_var\", \"backbone.blocks.7.mid_se.conv1.weight\", \"backbone.blocks.7.mid_se.conv1.bias\", \"backbone.blocks.7.mid_se.conv2.weight\", \"backbone.blocks.7.mid_se.conv2.bias\", \"backbone.blocks.7.linear_conv.conv.weight\", \"backbone.blocks.7.linear_conv.bn.weight\", \"backbone.blocks.7.linear_conv.bn.bias\", \"backbone.blocks.7.linear_conv.bn.running_mean\", \"backbone.blocks.7.linear_conv.bn.running_var\", \"backbone.blocks.8.expand_conv.conv.weight\", \"backbone.blocks.8.expand_conv.bn.weight\", \"backbone.blocks.8.expand_conv.bn.bias\", \"backbone.blocks.8.expand_conv.bn.running_mean\", \"backbone.blocks.8.expand_conv.bn.running_var\", \"backbone.blocks.8.bottleneck_conv.conv.weight\", \"backbone.blocks.8.bottleneck_conv.bn.weight\", \"backbone.blocks.8.bottleneck_conv.bn.bias\", \"backbone.blocks.8.bottleneck_conv.bn.running_mean\", \"backbone.blocks.8.bottleneck_conv.bn.running_var\", \"backbone.blocks.8.mid_se.conv1.weight\", \"backbone.blocks.8.mid_se.conv1.bias\", \"backbone.blocks.8.mid_se.conv2.weight\", \"backbone.blocks.8.mid_se.conv2.bias\", \"backbone.blocks.8.linear_conv.conv.weight\", \"backbone.blocks.8.linear_conv.bn.weight\", \"backbone.blocks.8.linear_conv.bn.bias\", \"backbone.blocks.8.linear_conv.bn.running_mean\", \"backbone.blocks.8.linear_conv.bn.running_var\", \"backbone.blocks.9.expand_conv.conv.weight\", \"backbone.blocks.9.expand_conv.bn.weight\", \"backbone.blocks.9.expand_conv.bn.bias\", \"backbone.blocks.9.expand_conv.bn.running_mean\", \"backbone.blocks.9.expand_conv.bn.running_var\", \"backbone.blocks.9.bottleneck_conv.conv.weight\", \"backbone.blocks.9.bottleneck_conv.bn.weight\", \"backbone.blocks.9.bottleneck_conv.bn.bias\", \"backbone.blocks.9.bottleneck_conv.bn.running_mean\", \"backbone.blocks.9.bottleneck_conv.bn.running_var\", \"backbone.blocks.9.mid_se.conv1.weight\", \"backbone.blocks.9.mid_se.conv1.bias\", \"backbone.blocks.9.mid_se.conv2.weight\", \"backbone.blocks.9.mid_se.conv2.bias\", \"backbone.blocks.9.linear_conv.conv.weight\", \"backbone.blocks.9.linear_conv.bn.weight\", \"backbone.blocks.9.linear_conv.bn.bias\", \"backbone.blocks.9.linear_conv.bn.running_mean\", \"backbone.blocks.9.linear_conv.bn.running_var\", \"backbone.blocks.10.expand_conv.conv.weight\", \"backbone.blocks.10.expand_conv.bn.weight\", \"backbone.blocks.10.expand_conv.bn.bias\", \"backbone.blocks.10.expand_conv.bn.running_mean\", \"backbone.blocks.10.expand_conv.bn.running_var\", \"backbone.blocks.10.bottleneck_conv.conv.weight\", \"backbone.blocks.10.bottleneck_conv.bn.weight\", \"backbone.blocks.10.bottleneck_conv.bn.bias\", \"backbone.blocks.10.bottleneck_conv.bn.running_mean\", \"backbone.blocks.10.bottleneck_conv.bn.running_var\", \"backbone.blocks.10.mid_se.conv1.weight\", \"backbone.blocks.10.mid_se.conv1.bias\", \"backbone.blocks.10.mid_se.conv2.weight\", \"backbone.blocks.10.mid_se.conv2.bias\", \"backbone.blocks.10.linear_conv.conv.weight\", \"backbone.blocks.10.linear_conv.bn.weight\", \"backbone.blocks.10.linear_conv.bn.bias\", \"backbone.blocks.10.linear_conv.bn.running_mean\", \"backbone.blocks.10.linear_conv.bn.running_var\", \"backbone.conv2.conv.weight\", \"backbone.conv2.bn.weight\", \"backbone.conv2.bn.bias\", \"backbone.conv2.bn.running_mean\", \"backbone.conv2.bn.running_var\", \"neck.encoder.lstm.weight_ih_l0\", \"neck.encoder.lstm.weight_hh_l0\", \"neck.encoder.lstm.bias_ih_l0\", \"neck.encoder.lstm.bias_hh_l0\", \"neck.encoder.lstm.weight_ih_l0_reverse\", \"neck.encoder.lstm.weight_hh_l0_reverse\", \"neck.encoder.lstm.bias_ih_l0_reverse\", \"neck.encoder.lstm.bias_hh_l0_reverse\", \"neck.encoder.lstm.weight_ih_l1\", \"neck.encoder.lstm.weight_hh_l1\", \"neck.encoder.lstm.bias_ih_l1\", \"neck.encoder.lstm.bias_hh_l1\", \"neck.encoder.lstm.weight_ih_l1_reverse\", \"neck.encoder.lstm.weight_hh_l1_reverse\", \"neck.encoder.lstm.bias_ih_l1_reverse\", \"neck.encoder.lstm.bias_hh_l1_reverse\", \"head.fc.weight\", \"head.fc.bias\". \n",
      "\tUnexpected key(s) in state_dict: \"backbone.conv.conv.weight\", \"backbone.conv.bn.weight\", \"backbone.conv.bn.bias\", \"backbone.conv.bn.running_mean\", \"backbone.conv.bn.running_var\", \"backbone.conv.bn.num_batches_tracked\", \"backbone.stages.0.0.expand_conv.conv.weight\", \"backbone.stages.0.0.expand_conv.bn.weight\", \"backbone.stages.0.0.expand_conv.bn.bias\", \"backbone.stages.0.0.expand_conv.bn.running_mean\", \"backbone.stages.0.0.expand_conv.bn.running_var\", \"backbone.stages.0.0.expand_conv.bn.num_batches_tracked\", \"backbone.stages.0.0.bottleneck_conv.conv.weight\", \"backbone.stages.0.0.bottleneck_conv.bn.weight\", \"backbone.stages.0.0.bottleneck_conv.bn.bias\", \"backbone.stages.0.0.bottleneck_conv.bn.running_mean\", \"backbone.stages.0.0.bottleneck_conv.bn.running_var\", \"backbone.stages.0.0.bottleneck_conv.bn.num_batches_tracked\", \"backbone.stages.0.0.linear_conv.conv.weight\", \"backbone.stages.0.0.linear_conv.bn.weight\", \"backbone.stages.0.0.linear_conv.bn.bias\", \"backbone.stages.0.0.linear_conv.bn.running_mean\", \"backbone.stages.0.0.linear_conv.bn.running_var\", \"backbone.stages.0.0.linear_conv.bn.num_batches_tracked\", \"backbone.stages.0.1.expand_conv.conv.weight\", \"backbone.stages.0.1.expand_conv.bn.weight\", \"backbone.stages.0.1.expand_conv.bn.bias\", \"backbone.stages.0.1.expand_conv.bn.running_mean\", \"backbone.stages.0.1.expand_conv.bn.running_var\", \"backbone.stages.0.1.expand_conv.bn.num_batches_tracked\", \"backbone.stages.0.1.bottleneck_conv.conv.weight\", \"backbone.stages.0.1.bottleneck_conv.bn.weight\", \"backbone.stages.0.1.bottleneck_conv.bn.bias\", \"backbone.stages.0.1.bottleneck_conv.bn.running_mean\", \"backbone.stages.0.1.bottleneck_conv.bn.running_var\", \"backbone.stages.0.1.bottleneck_conv.bn.num_batches_tracked\", \"backbone.stages.0.1.linear_conv.conv.weight\", \"backbone.stages.0.1.linear_conv.bn.weight\", \"backbone.stages.0.1.linear_conv.bn.bias\", \"backbone.stages.0.1.linear_conv.bn.running_mean\", \"backbone.stages.0.1.linear_conv.bn.running_var\", \"backbone.stages.0.1.linear_conv.bn.num_batches_tracked\", \"backbone.stages.0.2.expand_conv.conv.weight\", \"backbone.stages.0.2.expand_conv.bn.weight\", \"backbone.stages.0.2.expand_conv.bn.bias\", \"backbone.stages.0.2.expand_conv.bn.running_mean\", \"backbone.stages.0.2.expand_conv.bn.running_var\", \"backbone.stages.0.2.expand_conv.bn.num_batches_tracked\", \"backbone.stages.0.2.bottleneck_conv.conv.weight\", \"backbone.stages.0.2.bottleneck_conv.bn.weight\", \"backbone.stages.0.2.bottleneck_conv.bn.bias\", \"backbone.stages.0.2.bottleneck_conv.bn.running_mean\", \"backbone.stages.0.2.bottleneck_conv.bn.running_var\", \"backbone.stages.0.2.bottleneck_conv.bn.num_batches_tracked\", \"backbone.stages.0.2.linear_conv.conv.weight\", \"backbone.stages.0.2.linear_conv.bn.weight\", \"backbone.stages.0.2.linear_conv.bn.bias\", \"backbone.stages.0.2.linear_conv.bn.running_mean\", \"backbone.stages.0.2.linear_conv.bn.running_var\", \"backbone.stages.0.2.linear_conv.bn.num_batches_tracked\", \"backbone.stages.1.0.expand_conv.conv.weight\", \"backbone.stages.1.0.expand_conv.bn.weight\", \"backbone.stages.1.0.expand_conv.bn.bias\", \"backbone.stages.1.0.expand_conv.bn.running_mean\", \"backbone.stages.1.0.expand_conv.bn.running_var\", \"backbone.stages.1.0.expand_conv.bn.num_batches_tracked\", \"backbone.stages.1.0.bottleneck_conv.conv.weight\", \"backbone.stages.1.0.bottleneck_conv.bn.weight\", \"backbone.stages.1.0.bottleneck_conv.bn.bias\", \"backbone.stages.1.0.bottleneck_conv.bn.running_mean\", \"backbone.stages.1.0.bottleneck_conv.bn.running_var\", \"backbone.stages.1.0.bottleneck_conv.bn.num_batches_tracked\", \"backbone.stages.1.0.linear_conv.conv.weight\", \"backbone.stages.1.0.linear_conv.bn.weight\", \"backbone.stages.1.0.linear_conv.bn.bias\", \"backbone.stages.1.0.linear_conv.bn.running_mean\", \"backbone.stages.1.0.linear_conv.bn.running_var\", \"backbone.stages.1.0.linear_conv.bn.num_batches_tracked\", \"backbone.stages.1.1.expand_conv.conv.weight\", \"backbone.stages.1.1.expand_conv.bn.weight\", \"backbone.stages.1.1.expand_conv.bn.bias\", \"backbone.stages.1.1.expand_conv.bn.running_mean\", \"backbone.stages.1.1.expand_conv.bn.running_var\", \"backbone.stages.1.1.expand_conv.bn.num_batches_tracked\", \"backbone.stages.1.1.bottleneck_conv.conv.weight\", \"backbone.stages.1.1.bottleneck_conv.bn.weight\", \"backbone.stages.1.1.bottleneck_conv.bn.bias\", \"backbone.stages.1.1.bottleneck_conv.bn.running_mean\", \"backbone.stages.1.1.bottleneck_conv.bn.running_var\", \"backbone.stages.1.1.bottleneck_conv.bn.num_batches_tracked\", \"backbone.stages.1.1.linear_conv.conv.weight\", \"backbone.stages.1.1.linear_conv.bn.weight\", \"backbone.stages.1.1.linear_conv.bn.bias\", \"backbone.stages.1.1.linear_conv.bn.running_mean\", \"backbone.stages.1.1.linear_conv.bn.running_var\", \"backbone.stages.1.1.linear_conv.bn.num_batches_tracked\", \"backbone.stages.1.2.expand_conv.conv.weight\", \"backbone.stages.1.2.expand_conv.bn.weight\", \"backbone.stages.1.2.expand_conv.bn.bias\", \"backbone.stages.1.2.expand_conv.bn.running_mean\", \"backbone.stages.1.2.expand_conv.bn.running_var\", \"backbone.stages.1.2.expand_conv.bn.num_batches_tracked\", \"backbone.stages.1.2.bottleneck_conv.conv.weight\", \"backbone.stages.1.2.bottleneck_conv.bn.weight\", \"backbone.stages.1.2.bottleneck_conv.bn.bias\", \"backbone.stages.1.2.bottleneck_conv.bn.running_mean\", \"backbone.stages.1.2.bottleneck_conv.bn.running_var\", \"backbone.stages.1.2.bottleneck_conv.bn.num_batches_tracked\", \"backbone.stages.1.2.linear_conv.conv.weight\", \"backbone.stages.1.2.linear_conv.bn.weight\", \"backbone.stages.1.2.linear_conv.bn.bias\", \"backbone.stages.1.2.linear_conv.bn.running_mean\", \"backbone.stages.1.2.linear_conv.bn.running_var\", \"backbone.stages.1.2.linear_conv.bn.num_batches_tracked\", \"backbone.stages.2.0.expand_conv.conv.weight\", \"backbone.stages.2.0.expand_conv.bn.weight\", \"backbone.stages.2.0.expand_conv.bn.bias\", \"backbone.stages.2.0.expand_conv.bn.running_mean\", \"backbone.stages.2.0.expand_conv.bn.running_var\", \"backbone.stages.2.0.expand_conv.bn.num_batches_tracked\", \"backbone.stages.2.0.bottleneck_conv.conv.weight\", \"backbone.stages.2.0.bottleneck_conv.bn.weight\", \"backbone.stages.2.0.bottleneck_conv.bn.bias\", \"backbone.stages.2.0.bottleneck_conv.bn.running_mean\", \"backbone.stages.2.0.bottleneck_conv.bn.running_var\", \"backbone.stages.2.0.bottleneck_conv.bn.num_batches_tracked\", \"backbone.stages.2.0.linear_conv.conv.weight\", \"backbone.stages.2.0.linear_conv.bn.weight\", \"backbone.stages.2.0.linear_conv.bn.bias\", \"backbone.stages.2.0.linear_conv.bn.running_mean\", \"backbone.stages.2.0.linear_conv.bn.running_var\", \"backbone.stages.2.0.linear_conv.bn.num_batches_tracked\", \"backbone.stages.2.1.expand_conv.conv.weight\", \"backbone.stages.2.1.expand_conv.bn.weight\", \"backbone.stages.2.1.expand_conv.bn.bias\", \"backbone.stages.2.1.expand_conv.bn.running_mean\", \"backbone.stages.2.1.expand_conv.bn.running_var\", \"backbone.stages.2.1.expand_conv.bn.num_batches_tracked\", \"backbone.stages.2.1.bottleneck_conv.conv.weight\", \"backbone.stages.2.1.bottleneck_conv.bn.weight\", \"backbone.stages.2.1.bottleneck_conv.bn.bias\", \"backbone.stages.2.1.bottleneck_conv.bn.running_mean\", \"backbone.stages.2.1.bottleneck_conv.bn.running_var\", \"backbone.stages.2.1.bottleneck_conv.bn.num_batches_tracked\", \"backbone.stages.2.1.linear_conv.conv.weight\", \"backbone.stages.2.1.linear_conv.bn.weight\", \"backbone.stages.2.1.linear_conv.bn.bias\", \"backbone.stages.2.1.linear_conv.bn.running_mean\", \"backbone.stages.2.1.linear_conv.bn.running_var\", \"backbone.stages.2.1.linear_conv.bn.num_batches_tracked\", \"backbone.stages.2.2.expand_conv.conv.weight\", \"backbone.stages.2.2.expand_conv.bn.weight\", \"backbone.stages.2.2.expand_conv.bn.bias\", \"backbone.stages.2.2.expand_conv.bn.running_mean\", \"backbone.stages.2.2.expand_conv.bn.running_var\", \"backbone.stages.2.2.expand_conv.bn.num_batches_tracked\", \"backbone.stages.2.2.bottleneck_conv.conv.weight\", \"backbone.stages.2.2.bottleneck_conv.bn.weight\", \"backbone.stages.2.2.bottleneck_conv.bn.bias\", \"backbone.stages.2.2.bottleneck_conv.bn.running_mean\", \"backbone.stages.2.2.bottleneck_conv.bn.running_var\", \"backbone.stages.2.2.bottleneck_conv.bn.num_batches_tracked\", \"backbone.stages.2.2.linear_conv.conv.weight\", \"backbone.stages.2.2.linear_conv.bn.weight\", \"backbone.stages.2.2.linear_conv.bn.bias\", \"backbone.stages.2.2.linear_conv.bn.running_mean\", \"backbone.stages.2.2.linear_conv.bn.running_var\", \"backbone.stages.2.2.linear_conv.bn.num_batches_tracked\", \"backbone.stages.2.3.expand_conv.conv.weight\", \"backbone.stages.2.3.expand_conv.bn.weight\", \"backbone.stages.2.3.expand_conv.bn.bias\", \"backbone.stages.2.3.expand_conv.bn.running_mean\", \"backbone.stages.2.3.expand_conv.bn.running_var\", \"backbone.stages.2.3.expand_conv.bn.num_batches_tracked\", \"backbone.stages.2.3.bottleneck_conv.conv.weight\", \"backbone.stages.2.3.bottleneck_conv.bn.weight\", \"backbone.stages.2.3.bottleneck_conv.bn.bias\", \"backbone.stages.2.3.bottleneck_conv.bn.running_mean\", \"backbone.stages.2.3.bottleneck_conv.bn.running_var\", \"backbone.stages.2.3.bottleneck_conv.bn.num_batches_tracked\", \"backbone.stages.2.3.linear_conv.conv.weight\", \"backbone.stages.2.3.linear_conv.bn.weight\", \"backbone.stages.2.3.linear_conv.bn.bias\", \"backbone.stages.2.3.linear_conv.bn.running_mean\", \"backbone.stages.2.3.linear_conv.bn.running_var\", \"backbone.stages.2.3.linear_conv.bn.num_batches_tracked\", \"backbone.stages.2.4.expand_conv.conv.weight\", \"backbone.stages.2.4.expand_conv.bn.weight\", \"backbone.stages.2.4.expand_conv.bn.bias\", \"backbone.stages.2.4.expand_conv.bn.running_mean\", \"backbone.stages.2.4.expand_conv.bn.running_var\", \"backbone.stages.2.4.expand_conv.bn.num_batches_tracked\", \"backbone.stages.2.4.bottleneck_conv.conv.weight\", \"backbone.stages.2.4.bottleneck_conv.bn.weight\", \"backbone.stages.2.4.bottleneck_conv.bn.bias\", \"backbone.stages.2.4.bottleneck_conv.bn.running_mean\", \"backbone.stages.2.4.bottleneck_conv.bn.running_var\", \"backbone.stages.2.4.bottleneck_conv.bn.num_batches_tracked\", \"backbone.stages.2.4.linear_conv.conv.weight\", \"backbone.stages.2.4.linear_conv.bn.weight\", \"backbone.stages.2.4.linear_conv.bn.bias\", \"backbone.stages.2.4.linear_conv.bn.running_mean\", \"backbone.stages.2.4.linear_conv.bn.running_var\", \"backbone.stages.2.4.linear_conv.bn.num_batches_tracked\", \"backbone.stages.2.5.expand_conv.conv.weight\", \"backbone.stages.2.5.expand_conv.bn.weight\", \"backbone.stages.2.5.expand_conv.bn.bias\", \"backbone.stages.2.5.expand_conv.bn.running_mean\", \"backbone.stages.2.5.expand_conv.bn.running_var\", \"backbone.stages.2.5.expand_conv.bn.num_batches_tracked\", \"backbone.stages.2.5.bottleneck_conv.conv.weight\", \"backbone.stages.2.5.bottleneck_conv.bn.weight\", \"backbone.stages.2.5.bottleneck_conv.bn.bias\", \"backbone.stages.2.5.bottleneck_conv.bn.running_mean\", \"backbone.stages.2.5.bottleneck_conv.bn.running_var\", \"backbone.stages.2.5.bottleneck_conv.bn.num_batches_tracked\", \"backbone.stages.2.5.linear_conv.conv.weight\", \"backbone.stages.2.5.linear_conv.bn.weight\", \"backbone.stages.2.5.linear_conv.bn.bias\", \"backbone.stages.2.5.linear_conv.bn.running_mean\", \"backbone.stages.2.5.linear_conv.bn.running_var\", \"backbone.stages.2.5.linear_conv.bn.num_batches_tracked\", \"backbone.stages.3.0.expand_conv.conv.weight\", \"backbone.stages.3.0.expand_conv.bn.weight\", \"backbone.stages.3.0.expand_conv.bn.bias\", \"backbone.stages.3.0.expand_conv.bn.running_mean\", \"backbone.stages.3.0.expand_conv.bn.running_var\", \"backbone.stages.3.0.expand_conv.bn.num_batches_tracked\", \"backbone.stages.3.0.bottleneck_conv.conv.weight\", \"backbone.stages.3.0.bottleneck_conv.bn.weight\", \"backbone.stages.3.0.bottleneck_conv.bn.bias\", \"backbone.stages.3.0.bottleneck_conv.bn.running_mean\", \"backbone.stages.3.0.bottleneck_conv.bn.running_var\", \"backbone.stages.3.0.bottleneck_conv.bn.num_batches_tracked\", \"backbone.stages.3.0.linear_conv.conv.weight\", \"backbone.stages.3.0.linear_conv.bn.weight\", \"backbone.stages.3.0.linear_conv.bn.bias\", \"backbone.stages.3.0.linear_conv.bn.running_mean\", \"backbone.stages.3.0.linear_conv.bn.running_var\", \"backbone.stages.3.0.linear_conv.bn.num_batches_tracked\", \"backbone.stages.3.1.expand_conv.conv.weight\", \"backbone.stages.3.1.expand_conv.bn.weight\", \"backbone.stages.3.1.expand_conv.bn.bias\", \"backbone.stages.3.1.expand_conv.bn.running_mean\", \"backbone.stages.3.1.expand_conv.bn.running_var\", \"backbone.stages.3.1.expand_conv.bn.num_batches_tracked\", \"backbone.stages.3.1.bottleneck_conv.conv.weight\", \"backbone.stages.3.1.bottleneck_conv.bn.weight\", \"backbone.stages.3.1.bottleneck_conv.bn.bias\", \"backbone.stages.3.1.bottleneck_conv.bn.running_mean\", \"backbone.stages.3.1.bottleneck_conv.bn.running_var\", \"backbone.stages.3.1.bottleneck_conv.bn.num_batches_tracked\", \"backbone.stages.3.1.linear_conv.conv.weight\", \"backbone.stages.3.1.linear_conv.bn.weight\", \"backbone.stages.3.1.linear_conv.bn.bias\", \"backbone.stages.3.1.linear_conv.bn.running_mean\", \"backbone.stages.3.1.linear_conv.bn.running_var\", \"backbone.stages.3.1.linear_conv.bn.num_batches_tracked\", \"backbone.stages.3.2.expand_conv.conv.weight\", \"backbone.stages.3.2.expand_conv.bn.weight\", \"backbone.stages.3.2.expand_conv.bn.bias\", \"backbone.stages.3.2.expand_conv.bn.running_mean\", \"backbone.stages.3.2.expand_conv.bn.running_var\", \"backbone.stages.3.2.expand_conv.bn.num_batches_tracked\", \"backbone.stages.3.2.bottleneck_conv.conv.weight\", \"backbone.stages.3.2.bottleneck_conv.bn.weight\", \"backbone.stages.3.2.bottleneck_conv.bn.bias\", \"backbone.stages.3.2.bottleneck_conv.bn.running_mean\", \"backbone.stages.3.2.bottleneck_conv.bn.running_var\", \"backbone.stages.3.2.bottleneck_conv.bn.num_batches_tracked\", \"backbone.stages.3.2.linear_conv.conv.weight\", \"backbone.stages.3.2.linear_conv.bn.weight\", \"backbone.stages.3.2.linear_conv.bn.bias\", \"backbone.stages.3.2.linear_conv.bn.running_mean\", \"backbone.stages.3.2.linear_conv.bn.running_var\", \"backbone.stages.3.2.linear_conv.bn.num_batches_tracked\", \"backbone.stages.3.3.conv.weight\", \"backbone.stages.3.3.bn.weight\", \"backbone.stages.3.3.bn.bias\", \"backbone.stages.3.3.bn.running_mean\", \"backbone.stages.3.3.bn.running_var\", \"backbone.stages.3.3.bn.num_batches_tracked\", \"neck.ins_conv.0.in_conv.weight\", \"neck.ins_conv.0.se_block.conv1.weight\", \"neck.ins_conv.0.se_block.conv1.bias\", \"neck.ins_conv.0.se_block.conv2.weight\", \"neck.ins_conv.0.se_block.conv2.bias\", \"neck.ins_conv.1.in_conv.weight\", \"neck.ins_conv.1.se_block.conv1.weight\", \"neck.ins_conv.1.se_block.conv1.bias\", \"neck.ins_conv.1.se_block.conv2.weight\", \"neck.ins_conv.1.se_block.conv2.bias\", \"neck.ins_conv.2.in_conv.weight\", \"neck.ins_conv.2.se_block.conv1.weight\", \"neck.ins_conv.2.se_block.conv1.bias\", \"neck.ins_conv.2.se_block.conv2.weight\", \"neck.ins_conv.2.se_block.conv2.bias\", \"neck.ins_conv.3.in_conv.weight\", \"neck.ins_conv.3.se_block.conv1.weight\", \"neck.ins_conv.3.se_block.conv1.bias\", \"neck.ins_conv.3.se_block.conv2.weight\", \"neck.ins_conv.3.se_block.conv2.bias\", \"neck.inp_conv.0.in_conv.weight\", \"neck.inp_conv.0.se_block.conv1.weight\", \"neck.inp_conv.0.se_block.conv1.bias\", \"neck.inp_conv.0.se_block.conv2.weight\", \"neck.inp_conv.0.se_block.conv2.bias\", \"neck.inp_conv.1.in_conv.weight\", \"neck.inp_conv.1.se_block.conv1.weight\", \"neck.inp_conv.1.se_block.conv1.bias\", \"neck.inp_conv.1.se_block.conv2.weight\", \"neck.inp_conv.1.se_block.conv2.bias\", \"neck.inp_conv.2.in_conv.weight\", \"neck.inp_conv.2.se_block.conv1.weight\", \"neck.inp_conv.2.se_block.conv1.bias\", \"neck.inp_conv.2.se_block.conv2.weight\", \"neck.inp_conv.2.se_block.conv2.bias\", \"neck.inp_conv.3.in_conv.weight\", \"neck.inp_conv.3.se_block.conv1.weight\", \"neck.inp_conv.3.se_block.conv1.bias\", \"neck.inp_conv.3.se_block.conv2.weight\", \"neck.inp_conv.3.se_block.conv2.bias\", \"head.binarize.conv1.weight\", \"head.binarize.conv_bn1.weight\", \"head.binarize.conv_bn1.bias\", \"head.binarize.conv_bn1.running_mean\", \"head.binarize.conv_bn1.running_var\", \"head.binarize.conv_bn1.num_batches_tracked\", \"head.binarize.conv2.weight\", \"head.binarize.conv2.bias\", \"head.binarize.conv_bn2.weight\", \"head.binarize.conv_bn2.bias\", \"head.binarize.conv_bn2.running_mean\", \"head.binarize.conv_bn2.running_var\", \"head.binarize.conv_bn2.num_batches_tracked\", \"head.binarize.conv3.weight\", \"head.binarize.conv3.bias\", \"head.thresh.conv1.weight\", \"head.thresh.conv_bn1.weight\", \"head.thresh.conv_bn1.bias\", \"head.thresh.conv_bn1.running_mean\", \"head.thresh.conv_bn1.running_var\", \"head.thresh.conv_bn1.num_batches_tracked\", \"head.thresh.conv2.weight\", \"head.thresh.conv2.bias\", \"head.thresh.conv_bn2.weight\", \"head.thresh.conv_bn2.bias\", \"head.thresh.conv_bn2.running_mean\", \"head.thresh.conv_bn2.running_var\", \"head.thresh.conv_bn2.num_batches_tracked\", \"head.thresh.conv3.weight\", \"head.thresh.conv3.bias\". \n"
     ]
    }
   ],
   "source": [
    "! py -3.9 ./tools/infer/predict_det.py --image_dir ./doc/imgs --det_model_path models_torch/multilingual_ptocr_v3_det_infer.pth"
   ]
  },
  {
   "cell_type": "code",
   "execution_count": null,
   "metadata": {},
   "outputs": [],
   "source": [
    "# PP-OCRv3's default detection algorithm seems to be DB"
   ]
  },
  {
   "cell_type": "code",
   "execution_count": 5,
   "metadata": {},
   "outputs": [],
   "source": [
    "# get image []\n",
    "# apply transform []\n",
    "# add dummy dimension @ index=0\n",
    "# convert to tensor\n"
   ]
  },
  {
   "cell_type": "code",
   "execution_count": null,
   "metadata": {},
   "outputs": [],
   "source": [
    "parser = argparse.ArgumentParser()\n",
    "\n",
    "parser.add_argument(\"--det_limit_side_len\", type=float, default=960)\n",
    "parser.add_argument(\"--det_limit_type\", type=str, default='max')\n",
    "\n",
    "args = parser()"
   ]
  },
  {
   "cell_type": "code",
   "execution_count": null,
   "metadata": {},
   "outputs": [],
   "source": [
    "\n",
    "pre_process_list = [{\n",
    "    'DetResizeForTest': {\n",
    "        'limit_side_len': args.det_limit_side_len,\n",
    "        'limit_type': args.det_limit_type,\n",
    "    }\n",
    "}, {\n",
    "    'NormalizeImage': {\n",
    "        'std': [0.229, 0.224, 0.225],\n",
    "        'mean': [0.485, 0.456, 0.406],\n",
    "        'scale': '1./255.',\n",
    "        'order': 'hwc'\n",
    "    }\n",
    "}, {\n",
    "    'ToCHWImage': None\n",
    "}, {\n",
    "    'KeepKeys': {\n",
    "        'keep_keys': ['image', 'shape']\n",
    "    }\n",
    "}]"
   ]
  },
  {
   "cell_type": "code",
   "execution_count": null,
   "metadata": {},
   "outputs": [],
   "source": []
  }
 ],
 "metadata": {
  "kernelspec": {
   "display_name": "Python 3",
   "language": "python",
   "name": "python3"
  },
  "language_info": {
   "codemirror_mode": {
    "name": "ipython",
    "version": 3
   },
   "file_extension": ".py",
   "mimetype": "text/x-python",
   "name": "python",
   "nbconvert_exporter": "python",
   "pygments_lexer": "ipython3",
   "version": "3.9.18"
  },
  "orig_nbformat": 4
 },
 "nbformat": 4,
 "nbformat_minor": 2
}
